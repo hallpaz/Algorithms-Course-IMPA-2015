{
 "cells": [
  {
   "cell_type": "markdown",
   "metadata": {},
   "source": [
    "# Instituto Nacional de Matemática Pura e Aplicada\n",
    "## Curso de Algoritmos\n",
    "### Assignment sobre Fecho Convexo\n",
    "### Aluno: Hallison da Paz\n",
    "### Rio de Janeiro, novembro de 2015\n",
    "\n",
    "\n",
    "Este trabalho tem por objetivo estudar o problema de determinação de fecho convexo de pontos no plano. Para isso, serão implementados, e analisados sob questões de desempenho, os algoritmmos de Graham e de Jarvis."
   ]
  },
  {
   "cell_type": "markdown",
   "metadata": {},
   "source": [
    "**1. Implemente o algoritmo de Jarvis e o algoritmo de Graham, nas suas duas variantes. hull (Implemente também outros algoritmos se quiser.) Escreva o programa mais simples possível para cada algoritmo. Não se preocupe com interfaces gráficas.**"
   ]
  },
  {
   "cell_type": "markdown",
   "metadata": {},
   "source": [
    "Os algoritmos de Jarvis e de Graham foram implementados no arquivo convex_hull.py, enviado em anexo."
   ]
  },
  {
   "cell_type": "markdown",
   "metadata": {},
   "source": [
    "**2. Teste os seus programas no seguinte conjunto de pontos:**\n",
    "\n",
    "   A   B   C   D   E   F   G   H   I   J   K   L   M   N   O   P   Q\n",
    "x  3  11   6   4   5   8   1   7   9  14  10  17  15  13   3  12  16\n",
    "y  9   1   8   3  15  11   6   4   7   5  13  14   2  16  12  10   8\n",
    "\n",
    "**Teste também para as 128 cidades da América do Norte e para as 5565 sedes dos municípios do Brasil, e compare a sua solução com as figuras acima. Quantos vértices tem o fecho convexo em cada caso?**"
   ]
  },
  {
   "cell_type": "code",
   "execution_count": 12,
   "metadata": {
    "collapsed": false
   },
   "outputs": [],
   "source": [
    "from convex_hull import *\n",
    "from Point2D import Point2D\n",
    "from random_points import *\n",
    "data_folder = \"data/\"\n",
    "DEBUG = False"
   ]
  },
  {
   "cell_type": "code",
   "execution_count": 14,
   "metadata": {
    "collapsed": false
   },
   "outputs": [
    {
     "name": "stdout",
     "output_type": "stream",
     "text": [
      "B 11.0 1.0 -inf\n",
      "M 15.0 2.0 -4.0\n",
      "J 14.0 5.0 -0.75\n",
      "Q 16.0 8.0 -0.7142857142857143\n",
      "L 17.0 14.0 -0.46153846153846156\n",
      "N 13.0 16.0 -0.13333333333333333\n",
      "P 12.0 10.0 -0.1111111111111111\n",
      "K 10.0 13.0 0.08333333333333333\n",
      "F 8.0 11.0 0.3\n",
      "I 9.0 7.0 0.3333333333333333\n",
      "E 5.0 15.0 0.42857142857142855\n",
      "C 6.0 8.0 0.7142857142857143\n",
      "O 3.0 12.0 0.7272727272727273\n",
      "A 3.0 9.0 1.0\n",
      "H 7.0 4.0 1.3333333333333333\n",
      "G 1.0 6.0 2.0\n",
      "D 4.0 3.0 3.5\n",
      "-----------------------------------------\n",
      "Pontos do fecho convexo do conjunto de teste: \n",
      "B 11.0 1.0\n",
      "M 15.0 2.0\n",
      "L 17.0 14.0\n",
      "N 13.0 16.0\n",
      "E 5.0 15.0\n",
      "O 3.0 12.0\n",
      "G 1.0 6.0\n",
      "D 4.0 3.0\n"
     ]
    }
   ],
   "source": [
    "#Teste do Graham\n",
    "filename = data_folder + \"teste.txt\"\n",
    "points = Point2D.read_from_file(filename)\n",
    "hull = Graham(points)\n",
    "print(\"Pontos do fecho convexo do conjunto de teste: \")\n",
    "for point in hull:\n",
    "    print(point)"
   ]
  },
  {
   "cell_type": "code",
   "execution_count": null,
   "metadata": {
    "collapsed": true
   },
   "outputs": [],
   "source": [
    "#Teste do Graham variante com ordenação lexicográfica\n",
    "points = Point2D.read_from_file(filename)\n",
    "hull = Graham_up_down(points)\n",
    "for point in hull:\n",
    "    print(point)"
   ]
  },
  {
   "cell_type": "code",
   "execution_count": null,
   "metadata": {
    "collapsed": true
   },
   "outputs": [],
   "source": [
    "#Teste do Jarvis March\n",
    "points = Point2D.read_from_file(filename)\n",
    "hull = Jarvis(points)\n",
    "for point in hull:\n",
    "    print(point)"
   ]
  },
  {
   "cell_type": "code",
   "execution_count": null,
   "metadata": {
    "collapsed": true
   },
   "outputs": [],
   "source": [
    "#Teste com as 128 cidades da América do Norte\n",
    "filename = data_folder + \"america.txt\"\n",
    "points = Point2D.read_from_file(filename)\n",
    "graham_hull = Graham([p for p in points])\n",
    "graham2_hull = Graham_up_down([p for p in points])\n",
    "jarvis_hull = Jarvis([p for p in points])\n",
    "size_hull_america = len(graham_hull)\n",
    "if len(graham2_hull) != size_hull_america or len(jarvis_hull) != size_hull_america:\n",
    "    print(\"Erro em algum dos algoritmos\")\n",
    "else:\n",
    "    print(\"O numero de vertices no feixo convexo da america do norte é: \", len(graham_hull))"
   ]
  },
  {
   "cell_type": "code",
   "execution_count": null,
   "metadata": {
    "collapsed": true
   },
   "outputs": [],
   "source": [
    "# Imagem do fecho convexo para as 128 cidades da América do Norte"
   ]
  },
  {
   "cell_type": "code",
   "execution_count": null,
   "metadata": {
    "collapsed": true
   },
   "outputs": [],
   "source": [
    "#Teste com as 5565 cidades do Brasil\n",
    "filename = data_folder + \"brasil.txt\"\n",
    "points = Point2D.read_from_file(filename)\n",
    "graham_hull = Graham([p for p in points])\n",
    "graham2_hull = Graham_up_down([p for p in points])\n",
    "jarvis_hull = Jarvis([p for p in points])\n",
    "size_hull_brasil = len(graham_hull)\n",
    "if len(graham2_hull) != size_hull_america or len(jarvi_hull) != size_hull_brasil:\n",
    "    print(\"Erro em algum dos algoritmos\")\n",
    "else:\n",
    "    print(\"O numero de vertices no feixo convexo das cidades do Brasil é: \", len(graham_hull))"
   ]
  },
  {
   "cell_type": "code",
   "execution_count": null,
   "metadata": {
    "collapsed": true
   },
   "outputs": [],
   "source": [
    "# Imagem do fecho convexo para as 5565 cidades da América do Norte"
   ]
  },
  {
   "cell_type": "markdown",
   "metadata": {},
   "source": [
    "**3. Compare o desempenho dos algoritmos implementados em conjuntos de pontos gerados aleatoriamente dentro de um retângulo, dentro de um triângulo, dentro de um círculo, e sobre o círculo. Use conjuntos de 100 até 100000 pontos. (E mais se for possível.) Compare os tempos de cada algoritmo e também o esforço necessário para sua implementação.**"
   ]
  },
  {
   "cell_type": "code",
   "execution_count": null,
   "metadata": {
    "collapsed": true
   },
   "outputs": [],
   "source": [
    "# Testes com pontos gerados aleatoriamente no interior de um retangulo "
   ]
  },
  {
   "cell_type": "markdown",
   "metadata": {},
   "source": [
    "Os gráficos acima ilustram..."
   ]
  },
  {
   "cell_type": "code",
   "execution_count": null,
   "metadata": {
    "collapsed": true
   },
   "outputs": [],
   "source": [
    "# Testes com pontos gerados aleatoriamente no interior de um triângulo "
   ]
  },
  {
   "cell_type": "markdown",
   "metadata": {},
   "source": [
    "Os gráficos acima ilustram..."
   ]
  },
  {
   "cell_type": "code",
   "execution_count": null,
   "metadata": {
    "collapsed": true
   },
   "outputs": [],
   "source": [
    "# Testes com pontos gerados aleatoriamente no interior de um círculo"
   ]
  },
  {
   "cell_type": "markdown",
   "metadata": {},
   "source": [
    "Os gráficos acima ilustram..."
   ]
  },
  {
   "cell_type": "code",
   "execution_count": null,
   "metadata": {
    "collapsed": true
   },
   "outputs": [],
   "source": [
    "# Testes com pontos gerados aleatoriamente sobre um círculo"
   ]
  },
  {
   "cell_type": "code",
   "execution_count": null,
   "metadata": {
    "collapsed": true
   },
   "outputs": [],
   "source": [
    "Os gráficos acima ilustram..."
   ]
  },
  {
   "cell_type": "markdown",
   "metadata": {},
   "source": [
    "**4. Refaça os testes do item anterior incorporando eliminação de pontos interiores. Vale a pena eliminar pontos interiores? Qual as frações do tempo total que levam a eliminação de pontos interiores e o cálculo do fecho convexo após essa eliminação?**"
   ]
  },
  {
   "cell_type": "code",
   "execution_count": null,
   "metadata": {
    "collapsed": true
   },
   "outputs": [],
   "source": [
    "# Testes com pontos gerados aleatoriamente no interior de um retangulo com eliminação de pontos interiores"
   ]
  },
  {
   "cell_type": "code",
   "execution_count": null,
   "metadata": {
    "collapsed": true
   },
   "outputs": [],
   "source": [
    "# Testes com pontos gerados aleatoriamente no interior de um triângulo com eliminação de pontos interiores"
   ]
  },
  {
   "cell_type": "code",
   "execution_count": null,
   "metadata": {
    "collapsed": true
   },
   "outputs": [],
   "source": [
    "# Testes com pontos gerados aleatoriamente no interior de um círculo com eliminação de pontos interiores"
   ]
  },
  {
   "cell_type": "code",
   "execution_count": null,
   "metadata": {
    "collapsed": true
   },
   "outputs": [],
   "source": [
    "# Testes com pontos gerados aleatoriamente sobre um círculo com eliminação de pontos interiores"
   ]
  },
  {
   "cell_type": "markdown",
   "metadata": {},
   "source": [
    "Percebe-se que em alguns casos..."
   ]
  },
  {
   "cell_type": "markdown",
   "metadata": {},
   "source": [
    "**5. Avalie o papel do passo de ordenação no desempenho global dos seus programas. Qual a diferença entre usar um algoritmo quadrático ou um algoritmo O(n log n)?**"
   ]
  },
  {
   "cell_type": "markdown",
   "metadata": {},
   "source": [
    "O passo de ordenação tem papel fundamental no desempenho global dos algoritmos de fecho convexo implementados, pois caso os pontos fossem dados já de forma ordenada, poderíamos encontrar o fecho convexo em tempo linear com o algoritmo de Graham, por exemplo.\n",
    "\n",
    "A complexidade do algoritmo de ordenação utilizado é que domina assintoticamente a complexidade dos algoritmos de determinação de fecho convexo implementados. Assim, se utilizarmos um algorimo quadrático como passo do algoritmo de Graham, por exemplo, teremos uma solução com desempenho O(n2) e não mais O(nlog(n))."
   ]
  }
 ],
 "metadata": {
  "kernelspec": {
   "display_name": "Python 3",
   "language": "python",
   "name": "python3"
  },
  "language_info": {
   "codemirror_mode": {
    "name": "ipython",
    "version": 3
   },
   "file_extension": ".py",
   "mimetype": "text/x-python",
   "name": "python",
   "nbconvert_exporter": "python",
   "pygments_lexer": "ipython3",
   "version": "3.4.2"
  }
 },
 "nbformat": 4,
 "nbformat_minor": 0
}
