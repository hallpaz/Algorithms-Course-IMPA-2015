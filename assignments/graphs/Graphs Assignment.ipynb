{
 "cells": [
  {
   "cell_type": "markdown",
   "metadata": {},
   "source": [
    "Institito Nacional de matemática Pura e Aplicada\n",
    "Curso de Algoritmos\n",
    "Aluno: Hallison da Paz\n",
    "    Rio de Janeiro, outubro de 2015\n",
    "    \n",
    "Assignment sobre Grafos\n",
    "\n",
    "O grafo ao lado mostra 128 cidades da América do Norte. Ele foi extraído do arquivo miles.dat do livro \n",
    "The Stanford GraphBase. O arquivo map.txt representa esse grafo: os vértices estão numerados de 1 a 128 \n",
    "    e cada linha lista uma aresta do grafo e o seu comprimento, isto é, duas cidades e a distância entre elas.\n",
    "\n",
    "    1 Encontre uma árvore geradora mínima para esse grafo.\n",
    "    2 Encontre o menor caminho entre a cidade 93 e a cidade 112.\n",
    "    3 Encontre a árvore de menores caminhos a partir da cidade 104. \n",
    "\n",
    "map Para cada um desses subgrafos, calcule o seu comprimento total.\n",
    "\n",
    "Se quiser gerar uma figura, edite o arquivo map.eps para incluir o subgrafo após a \n",
    "linha marcada subgraph no formato indicado.\n",
    "\n",
    "Faça o mesmo para o grafo das 5565 sedes dos municípios do Brasil, encontrando o menor caminho entre \n",
    "a cidade 1 e cidade 2646, e a árvore de menores caminhos a partir da cidade 2646. \n",
    "Veja uma imagem do grafo e o programa ps."
   ]
  },
  {
   "cell_type": "code",
   "execution_count": 1,
   "metadata": {
    "collapsed": false
   },
   "outputs": [],
   "source": [
    "from graphs import *"
   ]
  },
  {
   "cell_type": "code",
   "execution_count": 2,
   "metadata": {
    "collapsed": false
   },
   "outputs": [
    {
     "name": "stdout",
     "output_type": "stream",
     "text": [
      "125071.0\n"
     ]
    }
   ],
   "source": [
    "#Carrega o grafo da América do Norte\n",
    "graph = graph_initialization(\"map.txt\", 128)\n",
    "print(graph_size(graph))"
   ]
  },
  {
   "cell_type": "markdown",
   "metadata": {},
   "source": [
    "1. Árvore geradora mínima para o grafo das 128 cidades da América do Norte (map.txt).\n",
    "Escolhemos uma representação do grafo por lista de adjacência. Na verdade, o grafo é representado por uma lista de objetos do tipo nó (Node) e cada instância de nó possui um identificador e uma lista de adjacência representando seus vizinhos (representados por identificadores na lista). Para determinação de árvore geradora mínima, implementou-se o algoritmo de Prim.\n",
    "\n",
    "map Para cada um desses subgrafos, calcule o seu comprimento total."
   ]
  },
  {
   "cell_type": "code",
   "execution_count": 3,
   "metadata": {
    "collapsed": false
   },
   "outputs": [
    {
     "name": "stdout",
     "output_type": "stream",
     "text": [
      "Comprimento da árvore geradora mínima: 22081.0\n"
     ]
    }
   ],
   "source": [
    "#Calcula a árvore geradora mínima do grafo da América do Norte\n",
    "root, mst = minimum_spanning_tree(graph)\n",
    "\n",
    "print(\"Comprimento da árvore geradora mínima: \" + str(graph_size(mst)) )"
   ]
  },
  {
   "cell_type": "markdown",
   "metadata": {},
   "source": [
    "2. Caminho mínimo entre a cidade 93 e a cidade 112.\n",
    "\n",
    "Para cálculo do caminho mínimo, uma escolha natural é o algoritmo de Djikstra, uma vez que o nosso grafo não possui arestas de peso negativo e os algoritmos de Djikstra e Prim (que já foi implementado) adotam uma abordagem bastante semelhante."
   ]
  },
  {
   "cell_type": "code",
   "execution_count": 5,
   "metadata": {
    "collapsed": false
   },
   "outputs": [
    {
     "name": "stdout",
     "output_type": "stream",
     "text": [
      "Comprimento total do caminho mínimo entre a cidade 93 e a cidade 112 é: 0.0\n"
     ]
    }
   ],
   "source": [
    "root, min_path_src_dst = minimum_path(graph, 93, 112)\n",
    "\n",
    "print(\"Comprimento total do caminho mínimo entre a cidade 93 e a cidade 112 é: \" + str(graph_size(min_path_src_dst)) )"
   ]
  },
  {
   "cell_type": "markdown",
   "metadata": {},
   "source": [
    "3. Árvore de menores caminhos a partir da cidade 104.\n",
    "\n",
    "Para cálculo da árvore de caminhos mínimos, resolvemos o problema de caminhos mínimos a partir de uma única fonte apenas executando o algoritmo de Djikstra a partir do nó 104 e deixando-o executar até o final, isto é, até que todos os nós alcançáveis a partir do nó 104 tenham sido visitados."
   ]
  },
  {
   "cell_type": "code",
   "execution_count": 6,
   "metadata": {
    "collapsed": false
   },
   "outputs": [
    {
     "name": "stdout",
     "output_type": "stream",
     "text": [
      "Comprimento total da árvore de caminhos mínimos a partir da cidade 104 é: 33314.0\n"
     ]
    }
   ],
   "source": [
    "root, min_path_single_src = minimum_path(graph, 104)\n",
    "print(\"Comprimento total da árvore de caminhos mínimos a partir da cidade 104 é: \" + str(graph_size(min_path_single_src)) )"
   ]
  },
  {
   "cell_type": "markdown",
   "metadata": {},
   "source": [
    "Faça o mesmo para o grafo das 5565 sedes dos municípios do Brasil, encontrando o menor caminho entre a cidade 1 \n",
    "e cidade 2646, e a árvore de menores caminhos a partir da cidade 2646. \n",
    "Veja uma imagem do grafo e o programa ps."
   ]
  },
  {
   "cell_type": "code",
   "execution_count": 7,
   "metadata": {
    "collapsed": true
   },
   "outputs": [],
   "source": [
    "#Carrega o grafo do Brasil\n",
    "br_graph = graph_initialization(\"BR.txt\", 5565)"
   ]
  },
  {
   "cell_type": "code",
   "execution_count": 8,
   "metadata": {
    "collapsed": false
   },
   "outputs": [
    {
     "name": "stdout",
     "output_type": "stream",
     "text": [
      "Comprimento da árvore geradora mínima: 1040.5415191100028\n"
     ]
    }
   ],
   "source": [
    "#Calcula a árvore geradora mínima do grafo do Brasil\n",
    "root, br_mst = minimum_spanning_tree(br_graph)\n",
    "\n",
    "print(\"Comprimento da árvore geradora mínima: \" + str(graph_size(br_mst)) )"
   ]
  },
  {
   "cell_type": "code",
   "execution_count": 9,
   "metadata": {
    "collapsed": false
   },
   "outputs": [
    {
     "name": "stdout",
     "output_type": "stream",
     "text": [
      "Comprimento total do caminho mínimo entre a cidade 1 e a cidade 2646 é: 16.6558691\n"
     ]
    }
   ],
   "source": [
    "root, br_min_path_src_dst = minimum_path(br_graph, 1, 2646)\n",
    "\n",
    "print(\"Comprimento total do caminho mínimo entre a cidade 1 e a cidade 2646 é: \" + str(graph_size(br_min_path_src_dst)) )"
   ]
  },
  {
   "cell_type": "code",
   "execution_count": 12,
   "metadata": {
    "collapsed": false
   },
   "outputs": [
    {
     "name": "stdout",
     "output_type": "stream",
     "text": [
      "Comprimento total da árvore de caminhos mínimos a partir da cidade 2646 é: 1715.811753659995\n"
     ]
    }
   ],
   "source": [
    "root, br_min_path_single_src = minimum_path(br_graph, 2646)\n",
    "print(\"Comprimento total da árvore de caminhos mínimos a partir da cidade 2646 é: \" + str(graph_size(br_min_path_single_src)) )"
   ]
  },
  {
   "cell_type": "code",
   "execution_count": null,
   "metadata": {
    "collapsed": true
   },
   "outputs": [],
   "source": []
  }
 ],
 "metadata": {
  "kernelspec": {
   "display_name": "Python 3",
   "language": "python",
   "name": "python3"
  },
  "language_info": {
   "codemirror_mode": {
    "name": "ipython",
    "version": 3
   },
   "file_extension": ".py",
   "mimetype": "text/x-python",
   "name": "python",
   "nbconvert_exporter": "python",
   "pygments_lexer": "ipython3",
   "version": "3.4.3"
  }
 },
 "nbformat": 4,
 "nbformat_minor": 0
}
