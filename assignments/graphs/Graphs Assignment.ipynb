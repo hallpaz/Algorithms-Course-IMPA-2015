{
 "cells": [
  {
   "cell_type": "markdown",
   "metadata": {},
   "source": [
    "Institito Nacional de matemática Pura e Aplicada\n",
    "Curso de Algoritmos\n",
    "Aluno: Hallison da Paz\n",
    "    Rio de Janeiro, outubro de 2015\n",
    "    \n",
    "Assignment sobre Grafos\n",
    "\n",
    "O grafo ao lado mostra 128 cidades da América do Norte. Ele foi extraído do arquivo miles.dat do livro \n",
    "The Stanford GraphBase. O arquivo map.txt representa esse grafo: os vértices estão numerados de 1 a 128 \n",
    "    e cada linha lista uma aresta do grafo e o seu comprimento, isto é, duas cidades e a distância entre elas.\n",
    "\n",
    "    1 Encontre uma árvore geradora mínima para esse grafo.\n",
    "    2 Encontre o menor caminho entre a cidade 93 e a cidade 112.\n",
    "    3 Encontre a árvore de menores caminhos a partir da cidade 104. \n",
    "\n",
    "map Para cada um desses subgrafos, calcule o seu comprimento total.\n",
    "\n",
    "Se quiser gerar uma figura, edite o arquivo map.eps para incluir o subgrafo após a \n",
    "linha marcada subgraph no formato indicado.\n",
    "\n",
    "Faça o mesmo para o grafo das 5565 sedes dos municípios do Brasil, encontrando o menor caminho entre \n",
    "a cidade 1 e cidade 2646, e a árvore de menores caminhos a partir da cidade 2646. \n",
    "Veja uma imagem do grafo e o programa ps."
   ]
  },
  {
   "cell_type": "code",
   "execution_count": 30,
   "metadata": {
    "collapsed": false
   },
   "outputs": [],
   "source": [
    "from graphs import *"
   ]
  },
  {
   "cell_type": "code",
   "execution_count": 31,
   "metadata": {
    "collapsed": false
   },
   "outputs": [
    {
     "ename": "IndexError",
     "evalue": "list index out of range",
     "output_type": "error",
     "traceback": [
      "\u001b[0;31m---------------------------------------------------------------------------\u001b[0m",
      "\u001b[0;31mIndexError\u001b[0m                                Traceback (most recent call last)",
      "\u001b[0;32m<ipython-input-31-b637c8bf80d5>\u001b[0m in \u001b[0;36m<module>\u001b[0;34m()\u001b[0m\n\u001b[1;32m      1\u001b[0m \u001b[0;31m#Carrega o grafo da América do Norte\u001b[0m\u001b[0;34m\u001b[0m\u001b[0;34m\u001b[0m\u001b[0m\n\u001b[1;32m      2\u001b[0m \u001b[0mgraph\u001b[0m \u001b[0;34m=\u001b[0m \u001b[0mgraph_initialization\u001b[0m\u001b[0;34m(\u001b[0m\u001b[0;34m\"map.txt\"\u001b[0m\u001b[0;34m,\u001b[0m \u001b[0;36m128\u001b[0m\u001b[0;34m)\u001b[0m\u001b[0;34m\u001b[0m\u001b[0m\n\u001b[0;32m----> 3\u001b[0;31m \u001b[0mprint\u001b[0m\u001b[0;34m(\u001b[0m\u001b[0mgraph_size\u001b[0m\u001b[0;34m(\u001b[0m\u001b[0mgraph\u001b[0m\u001b[0;34m)\u001b[0m\u001b[0;34m)\u001b[0m\u001b[0;34m\u001b[0m\u001b[0m\n\u001b[0m",
      "\u001b[0;32m/Users/hallpaz/Workspace/virtual_environments/python3_env/algorithms_impa2015/assignments/graphs/graphs.py\u001b[0m in \u001b[0;36mgraph_size\u001b[0;34m(graph)\u001b[0m\n\u001b[1;32m     91\u001b[0m             \u001b[0mneighbor\u001b[0m \u001b[0;34m=\u001b[0m \u001b[0mgraph\u001b[0m\u001b[0;34m[\u001b[0m\u001b[0mcurrentNode\u001b[0m\u001b[0;34m.\u001b[0m\u001b[0mneighbors\u001b[0m\u001b[0;34m[\u001b[0m\u001b[0mi\u001b[0m\u001b[0;34m]\u001b[0m\u001b[0;34m-\u001b[0m\u001b[0;36m1\u001b[0m\u001b[0;34m]\u001b[0m\u001b[0;34m\u001b[0m\u001b[0m\n\u001b[1;32m     92\u001b[0m             \u001b[0;31m#print(currentNode.id, neighbor.id)\u001b[0m\u001b[0;34m\u001b[0m\u001b[0;34m\u001b[0m\u001b[0m\n\u001b[0;32m---> 93\u001b[0;31m             \u001b[0;32mif\u001b[0m \u001b[0mgraph\u001b[0m\u001b[0;34m[\u001b[0m\u001b[0mneighbor\u001b[0m\u001b[0;34m.\u001b[0m\u001b[0mid\u001b[0m\u001b[0;34m-\u001b[0m\u001b[0;36m1\u001b[0m\u001b[0;34m]\u001b[0m\u001b[0;34m.\u001b[0m\u001b[0mcolor\u001b[0m \u001b[0;34m==\u001b[0m \u001b[0mColor\u001b[0m\u001b[0;34m.\u001b[0m\u001b[0mwhite\u001b[0m\u001b[0;34m:\u001b[0m\u001b[0;34m\u001b[0m\u001b[0m\n\u001b[0m\u001b[1;32m     94\u001b[0m                 \u001b[0mstack\u001b[0m\u001b[0;34m.\u001b[0m\u001b[0mappend\u001b[0m\u001b[0;34m(\u001b[0m\u001b[0mgraph\u001b[0m\u001b[0;34m[\u001b[0m\u001b[0mneighbor\u001b[0m\u001b[0;34m.\u001b[0m\u001b[0mid\u001b[0m\u001b[0;34m-\u001b[0m\u001b[0;36m1\u001b[0m\u001b[0;34m]\u001b[0m\u001b[0;34m)\u001b[0m\u001b[0;34m\u001b[0m\u001b[0m\n\u001b[1;32m     95\u001b[0m                 \u001b[0mgraph\u001b[0m\u001b[0;34m[\u001b[0m\u001b[0mneighbor\u001b[0m\u001b[0;34m.\u001b[0m\u001b[0mid\u001b[0m\u001b[0;34m-\u001b[0m\u001b[0;36m1\u001b[0m\u001b[0;34m]\u001b[0m\u001b[0;34m.\u001b[0m\u001b[0mcolor\u001b[0m \u001b[0;34m=\u001b[0m \u001b[0mColor\u001b[0m\u001b[0;34m.\u001b[0m\u001b[0mgray\u001b[0m\u001b[0;34m\u001b[0m\u001b[0m\n",
      "\u001b[0;31mIndexError\u001b[0m: list index out of range"
     ]
    }
   ],
   "source": [
    "#Carrega o grafo da América do Norte\n",
    "graph = graph_initialization(\"map.txt\", 128)\n",
    "print(graph_size(graph))"
   ]
  },
  {
   "cell_type": "markdown",
   "metadata": {},
   "source": [
    "1. Árvore geradora mínima para o grafo das 128 cidades da América do Norte (map.txt).\n",
    "Escolhemos uma representação do grafo por lista de adjacência. Na verdade, o grafo é representado por uma lista de objetos do tipo nó (Node) e cada instância de nó possui um identificador e uma lista de adjacência representando seus vizinhos (representados por identificadores na lista). Para determinação de árvore geradora mínima, implementou-se o algoritmo de Prim.\n",
    "\n",
    "map Para cada um desses subgrafos, calcule o seu comprimento total."
   ]
  },
  {
   "cell_type": "code",
   "execution_count": 3,
   "metadata": {
    "collapsed": false
   },
   "outputs": [
    {
     "name": "stdout",
     "output_type": "stream",
     "text": [
      "Comprimento da árvore geradora mínima: 0\n"
     ]
    }
   ],
   "source": [
    "#Calcula a árvore geradora mínima do grafo da América do Norte\n",
    "mst = minimum_spanning_tree(graph)\n",
    "\n",
    "print(\"Comprimento da árvore geradora mínima: \" + str(graph_size(mst)) )"
   ]
  },
  {
   "cell_type": "markdown",
   "metadata": {},
   "source": [
    "2. Caminho mínimo entre a cidade 93 e a cidade 112.\n",
    "\n",
    "Para cálculo do caminho mínimo, uma escolha natural é o algoritmo de Djikstra, uma vez que o nosso grafo não possui arestas de peso negativo e os algoritmos de Djikstra e Prim (que já foi implementado) adotam uma abordagem bastante semelhante."
   ]
  },
  {
   "cell_type": "code",
   "execution_count": 4,
   "metadata": {
    "collapsed": false
   },
   "outputs": [
    {
     "name": "stdout",
     "output_type": "stream",
     "text": [
      "Comprimento total do caminho geradora mínima: 0\n"
     ]
    }
   ],
   "source": [
    "min_path_src_dst = minimum_path(graph, 93, 112)\n",
    "\n",
    "print(\"Comprimento total do caminho mínimo entre a cidade 93 e a cidade 112 é: \" + str(graph_size(min_path_src_dst)) )"
   ]
  },
  {
   "cell_type": "markdown",
   "metadata": {},
   "source": [
    "3. Árvore de menores caminhos a partir da cidade 104.\n",
    "\n",
    "Para cálculo da árvore de caminhos mínimos, resolvemos o problema de caminhos mínimos a partir de uma única fonte apenas executando o algoritmo de Djikstra a partir do nó 104 e deixando-o executar até o final, isto é, até que todos os nós alcançáveis a partir do nó 104 tenham sido visitados."
   ]
  },
  {
   "cell_type": "code",
   "execution_count": 5,
   "metadata": {
    "collapsed": false
   },
   "outputs": [],
   "source": [
    "min_path_single_src = minimum_path(graph, 104)\n",
    "print(\"Comprimento total da árvore de caminhos mínimos a partir da cidade 104 é: \" + str(graph_size(min_path_single_src)) )"
   ]
  },
  {
   "cell_type": "markdown",
   "metadata": {},
   "source": [
    "Faça o mesmo para o grafo das 5565 sedes dos municípios do Brasil, encontrando o menor caminho entre a cidade 1 \n",
    "e cidade 2646, e a árvore de menores caminhos a partir da cidade 2646. \n",
    "Veja uma imagem do grafo e o programa ps."
   ]
  },
  {
   "cell_type": "code",
   "execution_count": null,
   "metadata": {
    "collapsed": true
   },
   "outputs": [],
   "source": [
    "#Carrega o grafo do Brasil\n",
    "br_graph = graph_initialization(\"BR.txt\", 5565)"
   ]
  },
  {
   "cell_type": "code",
   "execution_count": null,
   "metadata": {
    "collapsed": true
   },
   "outputs": [],
   "source": [
    "#Calcula a árvore geradora mínima do grafo do Brasil\n",
    "br_mst = minimum_spanning_tree(br_graph)\n",
    "\n",
    "print(\"Comprimento da árvore geradora mínima: \" + str(graph_size(br_mst)) )"
   ]
  },
  {
   "cell_type": "code",
   "execution_count": null,
   "metadata": {
    "collapsed": true
   },
   "outputs": [],
   "source": [
    "br_min_path_src_dst = minimum_path(br_graph, 1, 2646)\n",
    "\n",
    "print(\"Comprimento total do caminho mínimo entre a cidade 1 e a cidade 2646 é: \" + str(graph_size(br_min_path_src_dst)) )"
   ]
  },
  {
   "cell_type": "code",
   "execution_count": null,
   "metadata": {
    "collapsed": true
   },
   "outputs": [],
   "source": [
    "min_path_single_src = minimum_path(graph, 2646)\n",
    "print(\"Comprimento total da árvore de caminhos mínimos a partir da cidade 2646 é: \" + str(graph_size(br_min_path_single_src)) )"
   ]
  }
 ],
 "metadata": {
  "kernelspec": {
   "display_name": "Python 3",
   "language": "python",
   "name": "python3"
  },
  "language_info": {
   "codemirror_mode": {
    "name": "ipython",
    "version": 3
   },
   "file_extension": ".py",
   "mimetype": "text/x-python",
   "name": "python",
   "nbconvert_exporter": "python",
   "pygments_lexer": "ipython3",
   "version": "3.4.2"
  }
 },
 "nbformat": 4,
 "nbformat_minor": 0
}
