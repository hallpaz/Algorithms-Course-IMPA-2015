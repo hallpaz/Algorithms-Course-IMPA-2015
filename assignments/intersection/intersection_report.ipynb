{
 "cells": [
  {
   "cell_type": "markdown",
   "metadata": {},
   "source": [
    "## Instituto Nacional de Matemática Pura e Aplicada\n",
    "### Curso de Algoritmos\n",
    "### Aluno: Hallison da Paz\n",
    "### Trabalho sobre interseção de segmentos de retas\n",
    "### Rio de Janeiro, 08 de dezembro de 2015"
   ]
  },
  {
   "cell_type": "markdown",
   "metadata": {},
   "source": [
    "O objetivo deste trabalho é estudar o problema de detectar a existência de alguma intersecção entre pares de segmentos de um conjunto. \n",
    "O algoritmo de varredura encontra-se implementado no arquivo *main.py*. As estruturas de dados utilizadas (lista ordenada duplamente encadeada, árvore binária de busca e árvore red-black) encontram-se no arquivo *DataStructures.py*. As abstrações de segmento e ponto no plano encontram-se nos arquivos *Segment.py* e *Point2D.py*, respectivamente.\n",
    "\n",
    "Neste trabalho estudaremos o problema de detectar se em uma coleção de segmentos no plano, algum par se intersecta. Para isso utilizaremos o algoritmo de \"varredura por retas verticais\". Esse algoritmo faz uso de uma estrutura de dados X, capaz de implementar as operações de: Inserção, Remoção, Sucessor/Antecessor. Nos itens que seguem, o aluno deve escolher apenas um item especial (marcado com *) para implementar.\n",
    "\n",
    "    Implemente o algoritmo de varredura (utilizando uma estrutura X arbitrária) para detectar:\n",
    "        Se dois segmentos de uma coleção se intersectam.\n",
    "        *Se uma sequência de segmentos constitui um polígono. \n",
    "    Implemente as estruturas:\n",
    "        lista duplamente encadeada\n",
    "        árvore binária de busca\n",
    "        * red-black trees \n",
    "    Compare o desempenho do algoritmo (utilizando todas as estruturas implementadas no item anterior) para detectar interseções dos segmentos gerados pelos seguintes códigos python (para N = 10, 100, 1000... até onde der): "
   ]
  },
  {
   "cell_type": "code",
   "execution_count": 1,
   "metadata": {
    "collapsed": true
   },
   "outputs": [],
   "source": [
    "from DataStructures import BinarySearchTree, OrderedDoublyLinkedList, RBTree\n",
    "from Segment import Segment\n",
    "from Point2D import Point2D\n",
    "from time import clock\n",
    "from main import hasIntersectionOnSet, compareDataStructuresPerformance, plotPerformanceGraph\n",
    "import TestData"
   ]
  },
  {
   "cell_type": "code",
   "execution_count": 2,
   "metadata": {
    "collapsed": false
   },
   "outputs": [],
   "source": [
    "data_folder = \"data/\"\n",
    "images_folder = \"images/\"\n",
    "data_structures = [OrderedDoublyLinkedList(), BinarySearchTree(), RBTree()]\n",
    "names = [OrderedDoublyLinkedList.__name__, BinarySearchTree.__name__, RBTree.__name__]\n",
    "colors = dict(zip(names, [\"blue\", \"green\", \"red\"]))\n",
    "limit = 2"
   ]
  },
  {
   "cell_type": "code",
   "execution_count": 3,
   "metadata": {
    "collapsed": true
   },
   "outputs": [],
   "source": [
    "#write first test files\n",
    "TestData.writeFirstTest(limit)"
   ]
  },
  {
   "cell_type": "code",
   "execution_count": 3,
   "metadata": {
    "collapsed": false
   },
   "outputs": [],
   "source": [
    "first_test_times = compareDataStructuresPerformance(\"first_\", data_structures, limit)"
   ]
  },
  {
   "cell_type": "code",
   "execution_count": null,
   "metadata": {
    "collapsed": false
   },
   "outputs": [],
   "source": [
    "testlabel = \"First Test\"\n",
    "plotPerformanceGraph(limit, first_test_times, names, colors, testlabel)"
   ]
  },
  {
   "cell_type": "code",
   "execution_count": null,
   "metadata": {
    "collapsed": true
   },
   "outputs": [],
   "source": []
  }
 ],
 "metadata": {
  "kernelspec": {
   "display_name": "Python 3",
   "language": "python",
   "name": "python3"
  },
  "language_info": {
   "codemirror_mode": {
    "name": "ipython",
    "version": 3
   },
   "file_extension": ".py",
   "mimetype": "text/x-python",
   "name": "python",
   "nbconvert_exporter": "python",
   "pygments_lexer": "ipython3",
   "version": "3.4.2"
  }
 },
 "nbformat": 4,
 "nbformat_minor": 0
}
